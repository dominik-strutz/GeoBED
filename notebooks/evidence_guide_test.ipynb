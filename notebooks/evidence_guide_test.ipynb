{
 "cells": [
  {
   "cell_type": "code",
   "execution_count": 1,
   "metadata": {},
   "outputs": [],
   "source": [
    "import matplotlib.pyplot as plt\n",
    "import numpy as np\n",
    "import h5py\n",
    "\n",
    "import torch\n",
    "import torch.distributions as dist \n",
    "\n",
    "import zuko"
   ]
  },
  {
   "cell_type": "code",
   "execution_count": 2,
   "metadata": {},
   "outputs": [],
   "source": [
    "def forward_function(bulk_velocity, offset):    \n",
    "    # since we know the source is at x=0, we can calculate the distance to the receiver directly by using pythagoras theorem\n",
    "    return torch.sqrt(0.5**2 + offset**2) / bulk_velocity"
   ]
  },
  {
   "cell_type": "code",
   "execution_count": 3,
   "metadata": {},
   "outputs": [],
   "source": [
    "n_prior = int(1e6)\n",
    "\n",
    "bulk_velocity_prior = dist.Independent(dist.Normal(torch.tensor([4.5,]), torch.tensor([0.5,])), 1)\n",
    "bulk_velocity_prior_samples = bulk_velocity_prior.sample([n_prior])"
   ]
  },
  {
   "cell_type": "code",
   "execution_count": 4,
   "metadata": {},
   "outputs": [],
   "source": [
    "def data_likelihood(samples, design, design_dicts):\n",
    "\n",
    "    torch.manual_seed(0)\n",
    "    data_likelihood = dist.Independent(dist.Normal(samples, torch.tensor([0.1])), 1)\n",
    "    \n",
    "    return data_likelihood"
   ]
  },
  {
   "cell_type": "code",
   "execution_count": 5,
   "metadata": {},
   "outputs": [],
   "source": [
    "n_design_points = 10\n",
    "design_names = [str(i) for i in range(n_design_points)]\n",
    "offsets      = torch.linspace(100, 900, n_design_points)\n",
    "\n",
    "design_dicts = {}\n",
    "\n",
    "for i, name in enumerate(design_names):\n",
    "    design_dicts[name] = {'index': i, 'offset': offsets[i], 'forward_function': forward_function, 'cost': 1.0}\n"
   ]
  },
  {
   "cell_type": "code",
   "execution_count": 6,
   "metadata": {},
   "outputs": [],
   "source": [
    "def constructor_1to1_design(self, name_list, n_samples):\n",
    "    \n",
    "    name_list = list(dict.fromkeys(name_list)) # remove duplicates \n",
    "    # list(set(name_list)) destroys the order of the list\n",
    "    design_dicts_list = [self.design_dicts[n] for n in name_list]\n",
    "        \n",
    "    data = torch.zeros((n_samples, len(name_list), 1))\n",
    "                \n",
    "    for i, d_meta in enumerate(design_dicts_list):\n",
    "        data[:, i, :] = d_meta['forward_function'](self.prior_samples[:n_samples], d_meta['offset'])\n",
    "\n",
    "    return data.flatten(start_dim=-2)"
   ]
  },
  {
   "cell_type": "code",
   "execution_count": 7,
   "metadata": {},
   "outputs": [],
   "source": [
    "from geobed import BED_discrete\n",
    "\n",
    "BED_class = BED_discrete(design_dicts, data_likelihood, prior_samples=bulk_velocity_prior_samples, prior_dist=bulk_velocity_prior,\n",
    "                                     design2data=constructor_1to1_design)"
   ]
  },
  {
   "cell_type": "code",
   "execution_count": 8,
   "metadata": {},
   "outputs": [],
   "source": [
    "class GMM_guide(zuko.flows.FlowModule):\n",
    "    def __init__(self, data_samples):\n",
    "        data_mean = torch.mean(data_samples, dim=0)\n",
    "        data_std = torch.std(data_samples, dim=0)\n",
    "        features = data_samples.shape[-1]\n",
    "    \n",
    "        base = zuko.flows.GMM(features=features, components=1)\n",
    "    \n",
    "        transform = zuko.flows.Unconditional(dist.AffineTransform, -data_mean/data_std, 1/data_std, buffer=True)\n",
    "          \n",
    "        super().__init__([transform], base)\n",
    "        \n",
    "        print(data_mean, data_std)\n",
    "        \n",
    "        print(list(self.parameters()))\n",
    "        \n",
    "    def log_prob(self, x):\n",
    "                \n",
    "        out = self().log_prob(x)        \n",
    "        return out\n",
    "    \n",
    "    def sample(self, n_samples):\n",
    "        \n",
    "        shape = torch.Size([n_samples])\n",
    "        return self().sample(shape)"
   ]
  },
  {
   "cell_type": "code",
   "execution_count": 9,
   "metadata": {},
   "outputs": [
    {
     "name": "stdout",
     "output_type": "stream",
     "text": [
      "initializing guide\n",
      "tensor([42.5267, 62.5390]) tensor([4.9200, 7.2340])\n",
      "[Parameter containing:\n",
      "tensor([1.5235], requires_grad=True), Parameter containing:\n",
      "tensor([[-0.0701, -0.6554]], requires_grad=True), Parameter containing:\n",
      "tensor([[-0.7161, -1.2750]], requires_grad=True), Parameter containing:\n",
      "tensor([[0.8595]], requires_grad=True)]\n",
      "\n",
      "initializing optimizer\n",
      "starting training\n"
     ]
    },
    {
     "name": "stderr",
     "output_type": "stream",
     "text": [
      "Epoch 10/10, Loss: 2.819: 100%|██████████| 10/10 [00:16<00:00,  1.65s/it]\n"
     ]
    },
    {
     "data": {
      "image/png": "[encoded data removed]",
      "text/plain": [
       "<Figure size 720x720 with 1 Axes>"
      ]
     },
     "metadata": {
      "needs_background": "light"
     },
     "output_type": "display_data"
    }
   ],
   "source": [
    "N = int(1e5)\n",
    "M = int(1e5)\n",
    "n_batch = 100\n",
    "n_epochs = 10\n",
    "\n",
    "eig, info = BED_class.calculate_eig(\n",
    "    design=['1', '2'],\n",
    "    method='variational_marginal',\n",
    "    method_kwargs=\n",
    "    {'guide': GMM_guide,\n",
    "     'N': N,\n",
    "     'M': M,\n",
    "     'guide_kwargs': {},\n",
    "     'n_batch': n_batch,\n",
    "     'n_epochs': n_epochs,\n",
    "     'optimizer': torch.optim.Adam,\n",
    "     'optimizer_kwargs': {'lr': 1e-3},\n",
    "     'scheduler': None,\n",
    "     'scheduler_kwargs': {},\n",
    "     'return_guide': True,\n",
    "     'return_train_loss': True,\n",
    "     'return_test_loss': True,\n",
    "     'disable_tqdm': False\n",
    "     }\n",
    ")\n",
    "\n",
    "fig, ax = plt.subplots(figsize=(10,10))\n",
    "ax.plot(np.linspace(0, n_epochs*(M//n_batch), len(info['train_loss'])),\n",
    "        info['train_loss'], label='train loss')\n",
    "        \n",
    "ax.plot(np.linspace(0, n_epochs*(M//n_batch), len(info['test_loss'])),\n",
    "        info['test_loss'], label='test loss')\n",
    "\n",
    "plt.show()"
   ]
  },
  {
   "cell_type": "code",
   "execution_count": 10,
   "metadata": {},
   "outputs": [
    {
     "data": {
      "image/png": "[encoded data removed]",
      "text/plain": [
       "<Figure size 720x720 with 1 Axes>"
      ]
     },
     "metadata": {
      "needs_background": "light"
     },
     "output_type": "display_data"
    }
   ],
   "source": [
    "noisy_data = BED_class.get_noisy_data(['1', '2'], n_samples=1000)\n",
    "guide_samples = info['guide']().sample(torch.Size([1000]))\n",
    "\n",
    "fig, ax = plt.subplots(figsize=(10,10))\n",
    "ax.scatter(noisy_data[:, 0], noisy_data[:, 1], s=1)\n",
    "ax.scatter(guide_samples[:, 0], guide_samples[:, 1], s=1)\n",
    "\n",
    "ax.set_xlabel('offset 1')\n",
    "ax.set_ylabel('offset 2')\n",
    "\n",
    "# ax.set_xlim(0.0, 1.0)\n",
    "# ax.set_ylim(0.3, 1.0)\n",
    "\n",
    "plt.show()"
   ]
  },
  {
   "cell_type": "code",
   "execution_count": 11,
   "metadata": {},
   "outputs": [
    {
     "name": "stdout",
     "output_type": "stream",
     "text": [
      "[Parameter containing:\n",
      "tensor([1.5235], requires_grad=True), Parameter containing:\n",
      "tensor([[-0.0246, -0.0230]], requires_grad=True), Parameter containing:\n",
      "tensor([[-0.0135, -3.7117]], requires_grad=True), Parameter containing:\n",
      "tensor([[0.9859]], requires_grad=True)]\n"
     ]
    }
   ],
   "source": [
    "print(list((info['guide'].parameters())))"
   ]
  },
  {
   "cell_type": "code",
   "execution_count": null,
   "metadata": {},
   "outputs": [],
   "source": []
  },
  {
   "cell_type": "code",
   "execution_count": null,
   "metadata": {},
   "outputs": [],
   "source": []
  },
  {
   "cell_type": "code",
   "execution_count": null,
   "metadata": {},
   "outputs": [],
   "source": []
  },
  {
   "cell_type": "code",
   "execution_count": null,
   "metadata": {},
   "outputs": [],
   "source": []
  }
 ],
 "metadata": {
  "kernelspec": {
   "display_name": "FWI_ssl",
   "language": "python",
   "name": "python3"
  },
  "language_info": {
   "codemirror_mode": {
    "name": "ipython",
    "version": 3
   },
   "file_extension": ".py",
   "mimetype": "text/x-python",
   "name": "python",
   "nbconvert_exporter": "python",
   "pygments_lexer": "ipython3",
   "version": "3.10.8"
  },
  "orig_nbformat": 4,
  "vscode": {
   "interpreter": {
    "hash": "008a53b85707028b5b437656de975d49d2753ba007c43b8804c7a863b7a0c241"
   }
  }
 },
 "nbformat": 4,
 "nbformat_minor": 2
}
